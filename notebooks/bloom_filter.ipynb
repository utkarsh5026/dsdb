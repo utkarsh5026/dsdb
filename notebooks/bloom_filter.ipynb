{
 "cells": [
  {
   "metadata": {
    "ExecuteTime": {
     "end_time": "2024-08-15T14:30:08.645727Z",
     "start_time": "2024-08-15T14:30:07.300669Z"
    }
   },
   "cell_type": "code",
   "source": "!pip install mmh3",
   "id": "65a39184b77895e3",
   "outputs": [
    {
     "name": "stdout",
     "output_type": "stream",
     "text": [
      "Requirement already satisfied: mmh3 in c:\\users\\utkarsh priyadarshi\\appdata\\local\\programs\\python\\python39\\lib\\site-packages (4.1.0)"
     ]
    },
    {
     "name": "stderr",
     "output_type": "stream",
     "text": [
      "WARNING: You are using pip version 20.2.3; however, version 24.2 is available.\n",
      "You should consider upgrading via the 'c:\\users\\utkarsh priyadarshi\\appdata\\local\\programs\\python\\python39\\python.exe -m pip install --upgrade pip' command.\n"
     ]
    },
    {
     "name": "stdout",
     "output_type": "stream",
     "text": [
      "\n"
     ]
    }
   ],
   "execution_count": 29
  },
  {
   "metadata": {},
   "cell_type": "markdown",
   "source": [
    "# Bloom Filter\n",
    "This is part of the series **Mastering Data Structures for Databases**\n",
    "You can find the article at https://medium.com/@utkarshpriyadarshi5026/mastering-data-structures-for-databases-part-3-bloom-filters-f92f3bff7dcc "
   ],
   "id": "ce131f52530a78f4"
  },
  {
   "metadata": {},
   "cell_type": "markdown",
   "source": "## Hash functions used in the Bloom Filter",
   "id": "8b85b03d91ff3bad"
  },
  {
   "metadata": {},
   "cell_type": "markdown",
   "source": [
    "Let's create a hash function type that will be used in the Bloom Filter.\n",
    "\n",
    "Our hash function will take two arguments:\n",
    "- a string to be hashed\n",
    "- an integer that will be used as a seed for the hash function"
   ],
   "id": "3ba65e9996bae7ed"
  },
  {
   "metadata": {
    "ExecuteTime": {
     "end_time": "2024-08-15T14:30:08.661644Z",
     "start_time": "2024-08-15T14:30:08.647723Z"
    }
   },
   "cell_type": "code",
   "source": [
    "from typing import Callable\n",
    "\n",
    "HashFunction = Callable[[str, int], int]\n"
   ],
   "id": "820c596f658a878a",
   "outputs": [],
   "execution_count": 30
  },
  {
   "metadata": {},
   "cell_type": "markdown",
   "source": [
    "### CryptoGraphic Hash Functions \n",
    "\n",
    "Different types of hash functions can be used in the Bloom Filter.\n"
   ],
   "id": "f9f4f46e1f8831e"
  },
  {
   "metadata": {
    "ExecuteTime": {
     "end_time": "2024-08-15T14:30:08.677645Z",
     "start_time": "2024-08-15T14:30:08.663636Z"
    }
   },
   "cell_type": "code",
   "source": [
    "import hashlib\n",
    "\n",
    "def sha256_hash(item: str, seed: int = 0) -> int:\n",
    "    hash_value = int(hashlib.sha256((item + str(seed)).encode()).hexdigest(), 16)\n",
    "    return hash_value\n",
    "\n",
    "def md5_hash(item: str, seed: int = 0) -> int:\n",
    "    hash_value = int(hashlib.md5((item + str(seed)).encode()).hexdigest(), 16)\n",
    "    return hash_value\n",
    "\n",
    "def sha1_hash(item: str, seed: int = 0) -> int:\n",
    "    return int(hashlib.sha1((item + str(seed)).encode()).hexdigest(), 16)"
   ],
   "id": "a84d460f2d4dbbe8",
   "outputs": [],
   "execution_count": 31
  },
  {
   "metadata": {},
   "cell_type": "markdown",
   "source": [
    "### Non-Cryptographic Hash Functions\n",
    "\n",
    "#### Murmur Hash\n",
    "MurmurHash processes the input data in blocks, mixing the bits in each block to produce a final hash value. It uses a combination of multiplication and bitwise operations to achieve a good distribution of hash values.\n",
    "#### DJB2 Hash\n",
    "DJB2 starts with an initial hash value (often 5381) and iterates over each character in the input string. For each character, it multiplies the current hash value by 33 and adds the ASCII value of the character. This process is repeated for all characters in the input string.\n",
    "#### FNV-1a Hash\n",
    "FNV-1a starts with an initial hash value (FNV offset basis) and iterates over each character in the input string. For each character, it XORs the current hash value with the ASCII value of the character and then multiplies the result by the FNV prime. This process is repeated for all characters in the input string.\n"
   ],
   "id": "2e6fda92dbf95482"
  },
  {
   "metadata": {
    "ExecuteTime": {
     "end_time": "2024-08-15T14:30:08.693642Z",
     "start_time": "2024-08-15T14:30:08.679637Z"
    }
   },
   "cell_type": "code",
   "source": [
    "import mmh3\n",
    "\n",
    "def murmur_hash(item: str, seed: int = 0) -> int:\n",
    "    hash_value = mmh3.hash(item, seed)\n",
    "    return hash_value\n",
    "\n",
    "def djb2_hash(item: str, seed: int = 0) -> int:\n",
    "    hash_value = seed\n",
    "    for char in item:\n",
    "        hash_value = ((hash_value << 5) + hash_value) + ord(char)\n",
    "    return hash_value & 0xFFFFFFFF\n",
    "\n",
    "def fnv1a_hash(item: str, seed: int = 0) -> int:\n",
    "    hash_value = 0x811c9dc5 + seed # FNV offset basis\n",
    "    fnv_prime = 0x01000193 # 32 bit FNV prime\n",
    "    for char in item:\n",
    "        hash_value ^= ord(char) # XOR\n",
    "        hash_value *= fnv_prime # Multiplication\n",
    "    return hash_value & 0xFFFFFFFF "
   ],
   "id": "12476686ced1d348",
   "outputs": [],
   "execution_count": 32
  },
  {
   "metadata": {},
   "cell_type": "markdown",
   "source": [
    "## Structure of the Bloom Filter\n",
    "A Bloom filter is a space-efficient probabilistic data structure used to test whether an element is a member of a set. The structure of a Bloom filter consists of the following components:\n",
    "\n",
    "1. Bit Array:  \n",
    "    - A fixed-size bit array (or bit vector) initialized to all zeros. The size of the bit array determines the accuracy and space efficiency of the Bloom filter.\n",
    "2. Hash Functions:  \n",
    "    - Multiple independent hash functions that map elements to positions in the bit array. Each hash function should uniformly distribute the input elements across the bit array.\n",
    "\n",
    "## Operations on the Bloom Filter\n",
    "\n",
    "1. Add:\n",
    "    - To add an element to the Bloom filter, each hash function is applied to the element to get multiple hash values. The corresponding positions in the bit array are then set to 1\n",
    "2. Check:\n",
    "    - To check if an element is in the Bloom filter, each hash function is applied to the element to get multiple hash values. If all the corresponding positions in the bit array are set to 1, the element is likely in the set. If any position is 0, the element is definitely not in the set."
   ],
   "id": "2e3ce47d8de8fcf6"
  },
  {
   "metadata": {},
   "cell_type": "markdown",
   "source": "",
   "id": "5f625fcfb57e16a3"
  },
  {
   "metadata": {
    "ExecuteTime": {
     "end_time": "2024-08-15T14:30:08.709634Z",
     "start_time": "2024-08-15T14:30:08.694634Z"
    }
   },
   "cell_type": "code",
   "source": [
    "from typing import List\n",
    "\n",
    "class BloomFilter:\n",
    "    def __init__(self, size: int, hash_functions: List[HashFunction]) -> None:\n",
    "        self.size = size\n",
    "        self.hash_functions = hash_functions\n",
    "        self.bit_array = [0] * size\n",
    "        print(f\"Initialized Bloom Filter with size {size} and {len(hash_functions)} hash functions.\")\n",
    "\n",
    "    def _hashes(self, item: str) -> List[int]:\n",
    "        hashes = []\n",
    "        for i, hash_func in enumerate(self.hash_functions):\n",
    "            hash_value = hash_func(item, i) % self.size\n",
    "            hashes.append(hash_value)\n",
    "            print(f\"Hash {i+1} {hash_func.__name__} for '{item}' is {hash_value}.\")\n",
    "        return hashes\n",
    "\n",
    "    def add(self, item: str) -> None:\n",
    "        print(\"== Add Operation ==\")\n",
    "        hashes = self._hashes(item)\n",
    "        for i, hash_value in enumerate(hashes):\n",
    "            self.bit_array[hash_value] = 1\n",
    "            print(f\"Set bit_array[{hash_value}] to 1.\")\n",
    "            \n",
    "        print(f\"'{item}' added to Bloom Filter.\\n\\n\")\n",
    "\n",
    "    def check(self, item: str) -> bool:\n",
    "        hashes = self._hashes(item)\n",
    "        result = all(self.bit_array[hash_value] == 1 for hash_value in hashes)\n",
    "        print(f\"Checking '{item}': {'Present' if result else 'Not Present'} in Bloom Filter.\")\n",
    "        return result\n",
    "    \n",
    "    def show(self):\n",
    "        print(self.bit_array)"
   ],
   "id": "dc072666956aeaff",
   "outputs": [],
   "execution_count": 33
  },
  {
   "metadata": {},
   "cell_type": "markdown",
   "source": "",
   "id": "6b2337cc972988f4"
  },
  {
   "metadata": {
    "ExecuteTime": {
     "end_time": "2024-08-15T14:30:08.725646Z",
     "start_time": "2024-08-15T14:30:08.711634Z"
    }
   },
   "cell_type": "code",
   "source": [
    "import random\n",
    "\n",
    "\n",
    "# Create a Bloom Filter with random hash functions\n",
    "def create_random_bloom_filter(size: int, num_functions: int) -> BloomFilter:\n",
    "    available_hash_functions: List[HashFunction] = [\n",
    "    sha256_hash,\n",
    "    md5_hash,\n",
    "    sha1_hash,\n",
    "    murmur_hash,\n",
    "    djb2_hash,\n",
    "    fnv1a_hash\n",
    "]\n",
    "    if num_functions > len(available_hash_functions):\n",
    "        raise ValueError(\"Number of hash functions exceeds the available functions.\")\n",
    "    \n",
    "    selected_functions = random.sample(available_hash_functions, num_functions)\n",
    "    \n",
    "    for i, func in enumerate(selected_functions):\n",
    "        print(f\"Selected Hash Function {i+1}: {func.__name__}\")\n",
    "        \n",
    "    return BloomFilter(size, selected_functions)"
   ],
   "id": "9ed4beae9f02f08f",
   "outputs": [],
   "execution_count": 34
  },
  {
   "metadata": {
    "ExecuteTime": {
     "end_time": "2024-08-15T14:30:08.771975Z",
     "start_time": "2024-08-15T14:30:08.742634Z"
    }
   },
   "cell_type": "code",
   "source": "bloom_filter = create_random_bloom_filter(100, 3)",
   "id": "7f921c39e6d4fc98",
   "outputs": [
    {
     "name": "stdout",
     "output_type": "stream",
     "text": [
      "Selected Hash Function 1: sha1_hash\n",
      "Selected Hash Function 2: murmur_hash\n",
      "Selected Hash Function 3: fnv1a_hash\n",
      "Initialized Bloom Filter with size 100 and 3 hash functions.\n"
     ]
    }
   ],
   "execution_count": 35
  },
  {
   "metadata": {
    "ExecuteTime": {
     "end_time": "2024-08-15T14:30:08.787984Z",
     "start_time": "2024-08-15T14:30:08.772976Z"
    }
   },
   "cell_type": "code",
   "source": [
    "bloom_filter.add(\"apple\")\n",
    "bloom_filter.check(\"apple\")"
   ],
   "id": "22b7c50f80438466",
   "outputs": [
    {
     "name": "stdout",
     "output_type": "stream",
     "text": [
      "== Add Operation ==\n",
      "Hash 1 sha1_hash for 'apple' is 75.\n",
      "Hash 2 murmur_hash for 'apple' is 23.\n",
      "Hash 3 fnv1a_hash for 'apple' is 85.\n",
      "Set bit_array[75] to 1.\n",
      "Set bit_array[23] to 1.\n",
      "Set bit_array[85] to 1.\n",
      "'apple' added to Bloom Filter.\n",
      "\n",
      "\n",
      "Hash 1 sha1_hash for 'apple' is 75.\n",
      "Hash 2 murmur_hash for 'apple' is 23.\n",
      "Hash 3 fnv1a_hash for 'apple' is 85.\n",
      "Checking 'apple': Present in Bloom Filter.\n"
     ]
    },
    {
     "data": {
      "text/plain": [
       "True"
      ]
     },
     "execution_count": 36,
     "metadata": {},
     "output_type": "execute_result"
    }
   ],
   "execution_count": 36
  }
 ],
 "metadata": {
  "kernelspec": {
   "display_name": "Python 3",
   "language": "python",
   "name": "python3"
  },
  "language_info": {
   "codemirror_mode": {
    "name": "ipython",
    "version": 2
   },
   "file_extension": ".py",
   "mimetype": "text/x-python",
   "name": "python",
   "nbconvert_exporter": "python",
   "pygments_lexer": "ipython2",
   "version": "2.7.6"
  }
 },
 "nbformat": 4,
 "nbformat_minor": 5
}
