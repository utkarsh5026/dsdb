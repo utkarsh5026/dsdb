{
 "cells": [
  {
   "cell_type": "code",
   "id": "65a39184b77895e3",
   "metadata": {
    "ExecuteTime": {
     "end_time": "2024-08-15T17:23:13.951075Z",
     "start_time": "2024-08-15T17:23:12.567025Z"
    }
   },
   "source": [
    "!pip install mmh3"
   ],
   "outputs": [
    {
     "name": "stdout",
     "output_type": "stream",
     "text": [
      "Requirement already satisfied: mmh3 in c:\\users\\utkarsh priyadarshi\\appdata\\local\\programs\\python\\python39\\lib\\site-packages (4.1.0)\n"
     ]
    },
    {
     "name": "stderr",
     "output_type": "stream",
     "text": [
      "WARNING: You are using pip version 20.2.3; however, version 24.2 is available.\n",
      "You should consider upgrading via the 'c:\\users\\utkarsh priyadarshi\\appdata\\local\\programs\\python\\python39\\python.exe -m pip install --upgrade pip' command.\n"
     ]
    }
   ],
   "execution_count": 184
  },
  {
   "cell_type": "markdown",
   "id": "16d14861",
   "metadata": {},
   "source": [
    "# Bloom Filter\n",
    "This is part of the series **Mastering Data Structures for Databases**\n",
    "You can find the article at https://medium.com/@utkarshpriyadarshi5026/mastering-data-structures-for-databases-part-3-bloom-filters-f92f3bff7dcc "
   ]
  },
  {
   "cell_type": "markdown",
   "id": "8b85b03d91ff3bad",
   "metadata": {},
   "source": [
    "## Hash functions used in the Bloom Filter"
   ]
  },
  {
   "cell_type": "markdown",
   "id": "3ba65e9996bae7ed",
   "metadata": {},
   "source": [
    "Let's create a hash function type that will be used in the Bloom Filter.\n",
    "\n",
    "Our hash function will take two arguments:\n",
    "- a string to be hashed\n",
    "- an integer that will be used as a seed for the hash function"
   ]
  },
  {
   "cell_type": "code",
   "id": "820c596f658a878a",
   "metadata": {
    "ExecuteTime": {
     "end_time": "2024-08-15T17:23:13.966977Z",
     "start_time": "2024-08-15T17:23:13.952084Z"
    }
   },
   "source": [
    "from typing import Callable\n",
    "\n",
    "HashFunction = Callable[[str, int], int]\n"
   ],
   "outputs": [],
   "execution_count": 185
  },
  {
   "cell_type": "markdown",
   "id": "f9f4f46e1f8831e",
   "metadata": {},
   "source": [
    "### CryptoGraphic Hash Functions \n",
    "\n",
    "Different types of hash functions can be used in the Bloom Filter.\n"
   ]
  },
  {
   "cell_type": "code",
   "id": "a84d460f2d4dbbe8",
   "metadata": {
    "ExecuteTime": {
     "end_time": "2024-08-15T17:23:13.982948Z",
     "start_time": "2024-08-15T17:23:13.968888Z"
    }
   },
   "source": [
    "import hashlib\n",
    "\n",
    "def sha256_hash(item: str, seed: int = 0) -> int:\n",
    "    hash_value = int(hashlib.sha256((item + str(seed)).encode()).hexdigest(), 16)\n",
    "    return hash_value\n",
    "\n",
    "def md5_hash(item: str, seed: int = 0) -> int:\n",
    "    hash_value = int(hashlib.md5((item + str(seed)).encode()).hexdigest(), 16)\n",
    "    return hash_value\n",
    "\n",
    "def sha1_hash(item: str, seed: int = 0) -> int:\n",
    "    return int(hashlib.sha1((item + str(seed)).encode()).hexdigest(), 16)"
   ],
   "outputs": [],
   "execution_count": 186
  },
  {
   "cell_type": "markdown",
   "id": "2e6fda92dbf95482",
   "metadata": {},
   "source": [
    "### Non-Cryptographic Hash Functions\n",
    "\n",
    "#### Murmur Hash\n",
    "MurmurHash processes the input data in blocks, mixing the bits in each block to produce a final hash value. It uses a combination of multiplication and bitwise operations to achieve a good distribution of hash values.\n",
    "#### DJB2 Hash\n",
    "DJB2 starts with an initial hash value (often 5381) and iterates over each character in the input string. For each character, it multiplies the current hash value by 33 and adds the ASCII value of the character. This process is repeated for all characters in the input string.\n",
    "#### FNV-1a Hash\n",
    "FNV-1a starts with an initial hash value (FNV offset basis) and iterates over each character in the input string. For each character, it XORs the current hash value with the ASCII value of the character and then multiplies the result by the FNV prime. This process is repeated for all characters in the input string.\n"
   ]
  },
  {
   "cell_type": "code",
   "id": "12476686ced1d348",
   "metadata": {
    "ExecuteTime": {
     "end_time": "2024-08-15T17:23:13.998899Z",
     "start_time": "2024-08-15T17:23:13.984971Z"
    }
   },
   "source": [
    "import mmh3\n",
    "\n",
    "def murmur_hash(item: str, seed: int = 0) -> int:\n",
    "    hash_value = mmh3.hash(item, seed)\n",
    "    return hash_value\n",
    "\n",
    "def djb2_hash(item: str, seed: int = 0) -> int:\n",
    "    hash_value = seed\n",
    "    for char in item:\n",
    "        hash_value = ((hash_value << 5) + hash_value) + ord(char)\n",
    "    return hash_value & 0xFFFFFFFF\n",
    "\n",
    "def fnv1a_hash(item: str, seed: int = 0) -> int:\n",
    "    hash_value = 0x811c9dc5 + seed # FNV offset basis\n",
    "    fnv_prime = 0x01000193 # 32 bit FNV prime\n",
    "    for char in item:\n",
    "        hash_value ^= ord(char) # XOR\n",
    "        hash_value *= fnv_prime # Multiplication\n",
    "    return hash_value & 0xFFFFFFFF "
   ],
   "outputs": [],
   "execution_count": 187
  },
  {
   "cell_type": "markdown",
   "id": "2e3ce47d8de8fcf6",
   "metadata": {},
   "source": [
    "## Structure of the Bloom Filter\n",
    "A Bloom filter is a space-efficient probabilistic data structure used to test whether an element is a member of a set. The structure of a Bloom filter consists of the following components:\n",
    "\n",
    "1. Bit Array:  \n",
    "    - A fixed-size bit array (or bit vector) initialized to all zeros. The size of the bit array determines the accuracy and space efficiency of the Bloom filter.\n",
    "2. Hash Functions:  \n",
    "    - Multiple independent hash functions that map elements to positions in the bit array. Each hash function should uniformly distribute the input elements across the bit array.\n",
    "\n",
    "## Operations on the Bloom Filter\n",
    "\n",
    "1. Add:\n",
    "    - To add an element to the Bloom filter, each hash function is applied to the element to get multiple hash values. The corresponding positions in the bit array are then set to 1\n",
    "2. Check:\n",
    "    - To check if an element is in the Bloom filter, each hash function is applied to the element to get multiple hash values. If all the corresponding positions in the bit array are set to 1, the element is likely in the set. If any position is 0, the element is definitely not in the set."
   ]
  },
  {
   "cell_type": "markdown",
   "id": "5f625fcfb57e16a3",
   "metadata": {},
   "source": []
  },
  {
   "cell_type": "code",
   "id": "dc072666956aeaff",
   "metadata": {
    "ExecuteTime": {
     "end_time": "2024-08-15T17:23:14.013877Z",
     "start_time": "2024-08-15T17:23:13.999954Z"
    }
   },
   "source": [
    "from typing import List\n",
    "\n",
    "class BloomFilter:\n",
    "    def __init__(self, size: int, hash_functions: List[HashFunction]) -> None:\n",
    "        self.size = size\n",
    "        self.hash_functions = hash_functions\n",
    "        self.bit_array = [0] * size\n",
    "        self.item_count = 0\n",
    "        print(f\"Initialized Bloom Filter with size {size} and {len(hash_functions)} hash functions.\")\n",
    "\n",
    "    def _hashes(self, item: str) -> List[int]:\n",
    "        hashes = []\n",
    "        for i, hash_func in enumerate(self.hash_functions):\n",
    "            hash_value = hash_func(item, i) % self.size\n",
    "            hashes.append(hash_value)\n",
    "           \n",
    "        return hashes\n",
    "\n",
    "    def add(self, item: str) -> None:\n",
    "        hashes = self._hashes(item)\n",
    "        for i, hash_value in enumerate(hashes):\n",
    "            self.bit_array[hash_value] = 1\n",
    "        \n",
    "        self.item_count += 1\n",
    "\n",
    "    def check(self, item: str) -> bool:\n",
    "        hashes = self._hashes(item)\n",
    "        result = all(self.bit_array[hash_value] == 1 for hash_value in hashes)\n",
    "        return result\n",
    "    \n",
    "    def show(self):\n",
    "        print(self.bit_array)"
   ],
   "outputs": [],
   "execution_count": 188
  },
  {
   "metadata": {
    "ExecuteTime": {
     "end_time": "2024-08-15T17:23:14.029885Z",
     "start_time": "2024-08-15T17:23:14.015878Z"
    }
   },
   "cell_type": "code",
   "source": [
    "import random\n",
    "\n",
    "def get_random_hash_functions(num_functions: int) -> List[HashFunction]:\n",
    "    available_hash_functions: List[HashFunction] = [\n",
    "        sha256_hash,\n",
    "        md5_hash,\n",
    "        sha1_hash,\n",
    "        murmur_hash,\n",
    "        djb2_hash,\n",
    "        fnv1a_hash\n",
    "    ]\n",
    "    if num_functions > len(available_hash_functions):\n",
    "        num_functions = num_functions % len(available_hash_functions)\n",
    "        num_functions = num_functions if num_functions > 0 else random.randint(1, len(available_hash_functions))\n",
    "    \n",
    "    selected_functions = random.sample(available_hash_functions, num_functions)\n",
    "    \n",
    "    for i, func in enumerate(selected_functions):\n",
    "        print(f\"Selected Hash Function {i+1}: {func.__name__}\")\n",
    "        \n",
    "    print(\"\\n\")\n",
    "    return selected_functions"
   ],
   "id": "7f70404abb605ebf",
   "outputs": [],
   "execution_count": 189
  },
  {
   "cell_type": "markdown",
   "id": "6b2337cc972988f4",
   "metadata": {},
   "source": []
  },
  {
   "cell_type": "code",
   "id": "7f921c39e6d4fc98",
   "metadata": {
    "ExecuteTime": {
     "end_time": "2024-08-15T17:23:14.045320Z",
     "start_time": "2024-08-15T17:23:14.030894Z"
    }
   },
   "source": [
    "funcs = get_random_hash_functions(3)\n",
    "bloom_filter = BloomFilter(10, funcs)"
   ],
   "outputs": [
    {
     "name": "stdout",
     "output_type": "stream",
     "text": [
      "Selected Hash Function 1: murmur_hash\n",
      "Selected Hash Function 2: md5_hash\n",
      "Selected Hash Function 3: fnv1a_hash\n",
      "\n",
      "\n",
      "Initialized Bloom Filter with size 10 and 3 hash functions.\n"
     ]
    }
   ],
   "execution_count": 190
  },
  {
   "cell_type": "code",
   "id": "22b7c50f80438466",
   "metadata": {
    "ExecuteTime": {
     "end_time": "2024-08-15T17:23:14.061328Z",
     "start_time": "2024-08-15T17:23:14.046321Z"
    }
   },
   "source": [
    "bloom_filter.add(\"apple\")\n",
    "bloom_filter.check(\"apple\")"
   ],
   "outputs": [
    {
     "data": {
      "text/plain": [
       "True"
      ]
     },
     "execution_count": 191,
     "metadata": {},
     "output_type": "execute_result"
    }
   ],
   "execution_count": 191
  },
  {
   "metadata": {},
   "cell_type": "markdown",
   "source": [
    "# The Mathematics of Bloom Filters\n",
    "\n",
    "Bloom filters are probabilistic data structures that efficiently represent sets and support membership queries. Understanding the mathematics behind Bloom filters is crucial for optimizing their performance and understanding their behavior. This document explores the key mathematical concepts and formulas underlying Bloom filters.\n",
    "\n",
    "## 1. Basic Structure\n",
    "\n",
    "A Bloom filter consists of:\n",
    "- A bit array of m bits, initially all set to 0\n",
    "- k different hash functions, each mapping an element to one of the m array positions\n",
    "\n",
    "## 2. Insertion\n",
    "\n",
    "When an element is inserted:\n",
    "- It is hashed by each of the k hash functions\n",
    "- The bits at the resulting k positions are set to 1\n",
    "\n",
    "## 3. Querying\n",
    "\n",
    "To query for an element:\n",
    "- It is hashed by each of the k hash functions\n",
    "- If all the bits at the resulting k positions are 1, the element is considered \"possibly in the set\"\n",
    "- If any of the bits are 0, the element is \"definitely not in the set\"\n",
    "\n",
    "## 4. False Positive Probability\n",
    "\n",
    "The probability of a false positive (p) after inserting n elements is approximately:\n",
    "\n",
    "p ≈ (1 - e^(-kn/m))^k\n",
    "\n",
    "Where:\n",
    "- m is the size of the bit array\n",
    "- n is the number of inserted elements\n",
    "- k is the number of hash functions\n",
    "\n",
    "## 5. Optimal Number of Hash Functions\n",
    "\n",
    "The optimal number of hash functions (k) that minimizes the false positive probability is:\n",
    "\n",
    "k = (m/n) * ln(2)\n",
    "\n",
    "This can be derived by differentiating the false positive probability formula with respect to k and setting it to zero.\n",
    "\n",
    "## 6. Optimal Size of the Bit Array\n",
    "\n",
    "Given a desired false positive probability p and the number of elements n, the optimal size of the bit array m is:\n",
    "\n",
    "m = -(n * ln(p)) / (ln(2))^2\n",
    "\n",
    "## 7. Capacity and Fill Ratio\n",
    "\n",
    "The fill ratio of a Bloom filter is the proportion of bits set to 1. It can be approximated as:\n",
    "\n",
    "fill_ratio ≈ 1 - e^(-kn/m)\n",
    "\n",
    "As the fill ratio approaches 1, the false positive rate increases.\n",
    "\n",
    "## 8. Estimating the Number of Elements\n",
    "\n",
    "Given a Bloom filter with m bits, k hash functions, and x bits set to 1, we can estimate the number of elements n as:\n",
    "\n",
    "n ≈ -(m/k) * ln(1 - x/m)\n"
   ],
   "id": "b975ce045301db2b"
  },
  {
   "metadata": {
    "ExecuteTime": {
     "end_time": "2024-08-15T17:23:14.077325Z",
     "start_time": "2024-08-15T17:23:14.062320Z"
    }
   },
   "cell_type": "code",
   "source": [
    "def optimal_filter_size(n: int, p: float) -> int:\n",
    "    \"\"\"\n",
    "    Calculate the optimal size of a Bloom filter.\n",
    "    m = -(n * log(p)) / (log(2)^2)\n",
    "    \n",
    "    Args:\n",
    "    n (int): The expected number of elements to be inserted.\n",
    "    p (float): The desired false positive probability.\n",
    "    \n",
    "    Returns:\n",
    "    int: The optimal size of the filter in bits.\n",
    "    \"\"\"\n",
    "    m = -(n * math.log(p)) / (math.log(2)**2)\n",
    "    return math.ceil(m)\n",
    "\n",
    "\n",
    "def optimal_number_of_hashes(m: int, n: int) -> int:\n",
    "    \"\"\"\n",
    "    Calculate the optimal number of hash functions for a Bloom filter.\n",
    "    \n",
    "    k = (m / n) * log(2)\n",
    "    \n",
    "    Args:\n",
    "    m (int): The size of the Bloom filter in bits.\n",
    "    n (int): The expected number of elements to be inserted.\n",
    "    \n",
    "    Returns:\n",
    "    int: The optimal number of hash functions.\n",
    "    \"\"\"\n",
    "    k = (m / n) * math.log(2)\n",
    "    return math.ceil(k)\n",
    "\n",
    "\n",
    "def false_positive_probability(m: int, n: int, k: int) -> float:\n",
    "    \"\"\"\n",
    "    Calculate the false positive probability of a Bloom filter.\n",
    "    p = (1 - e^(-k * n / m))^k\n",
    "    \n",
    "    Args:\n",
    "    m (int): The size of the Bloom filter in bits.\n",
    "    n (int): The number of elements inserted in the filter.\n",
    "    k (int): The number of hash functions used.\n",
    "    \n",
    "    Returns:\n",
    "    float: The false positive probability.\n",
    "    \"\"\"\n",
    "    return (1 - math.exp(-k * n / m))**k\n",
    "\n",
    "\n",
    "def estimated_elements_count(m: int, k: int, x: int) -> int:\n",
    "    \"\"\"\n",
    "    Estimate the number of elements in a Bloom filter based on the number of bits set.\n",
    "    \n",
    "    n = -m / k * log(1 - x / m)\n",
    "    \n",
    "    Args:\n",
    "    m (int): The size of the Bloom filter in bits.\n",
    "    k (int): The number of hash functions used.\n",
    "    x (int): The number of bits set to 1 in the filter.\n",
    "    \n",
    "    Returns:\n",
    "    int: The estimated number of elements in the filter.\n",
    "    \"\"\"\n",
    "    return math.ceil(-m / k * math.log(1 - x / m))\n"
   ],
   "id": "f78aed0a9974fdc5",
   "outputs": [],
   "execution_count": 192
  },
  {
   "metadata": {},
   "cell_type": "markdown",
   "source": [
    "## Counting Bloom Filter\n",
    "\n",
    "A Counting Bloom Filter (CBF) is an extension of the standard Bloom Filter that allows for the removal of elements. It achieves this by using an array of counters instead of a simple bit array. Each counter keeps track of the number of times a particular position has been set, enabling both addition and deletion of elements.\n",
    "\n",
    "#### Key Components:\n",
    "1. **Count Array**:\n",
    "   - An array of integers (counters) initialized to all zeros. Each counter represents the number of times a particular bit position has been set.\n",
    "\n",
    "2. **Hash Functions**:\n",
    "   - Multiple independent hash functions that map elements to positions in the count array. Each hash function should uniformly distribute the input elements across the count array.\n",
    "\n",
    "#### Basic Operations:\n",
    "1. **Add Operation**:\n",
    "   - To add an element, each hash function is applied to the element to get multiple hash values. The corresponding positions in the count array are incremented by 1.\n",
    "\n",
    "2. **Remove Operation**:\n",
    "   - To remove an element, each hash function is applied to the element to get multiple hash values. The corresponding positions in the count array are decremented by 1, ensuring the count does not go below zero.\n",
    "\n",
    "3. **Check Operation**:\n",
    "   - To check if an element is in the filter, each hash function is applied to the element to get multiple hash values. If all the corresponding positions in the count array are greater than zero, the element is likely in the set. If any position is zero, the element is definitely not in the set."
   ],
   "id": "bbd396d2a2075622"
  },
  {
   "metadata": {
    "ExecuteTime": {
     "end_time": "2024-08-15T17:23:14.092320Z",
     "start_time": "2024-08-15T17:23:14.079324Z"
    }
   },
   "cell_type": "code",
   "source": [
    "class CountingBloomFilter(BloomFilter):\n",
    "    \"\"\"\n",
    "    A Counting Bloom Filter (CBF) is an extension of the standard Bloom Filter that allows for the removal of elements.\n",
    "    It uses an array of counters instead of a simple bit array to keep track of the number of times a particular position has been set.\n",
    "\n",
    "    Attributes:\n",
    "        size (int): The size of the count array.\n",
    "        hash_functions (List[HashFunction]): A list of hash functions used to map elements to positions in the count array.\n",
    "        count_array (List[int]): The count array used to store the presence of elements.\n",
    "    \"\"\"\n",
    "\n",
    "    def __init__(self, size: int, hash_functions: List[HashFunction]) -> None:\n",
    "        super().__init__(size, hash_functions)\n",
    "        # Initialize a count array instead of a bit array\n",
    "        self.count_array = [0] * size\n",
    "        print(f\"Initialized Counting Bloom Filter with size {size}.\")\n",
    "\n",
    "    def add(self, item: str) -> None:\n",
    "        hashes = self._hashes(item)\n",
    "        for i, hash_value in enumerate(hashes):\n",
    "            self.count_array[hash_value] += 1\n",
    "            \n",
    "\n",
    "    def remove(self, item: str) -> None:\n",
    "        hashes = self._hashes(item)\n",
    "        for i, hash_value in enumerate(hashes):\n",
    "            if self.count_array[hash_value] > 0:\n",
    "                # Decrement the count if it's greater than 0\n",
    "                self.count_array[hash_value] -= 1\n",
    "              \n",
    "\n",
    "    def check(self, item: str) -> bool:\n",
    "        hashes = self._hashes(item)\n",
    "        result = all(self.count_array[hash_value] > 0 for hash_value in hashes)\n",
    "        print(f\"Checking '{item}': {'Present' if result else 'Not Present'} in Counting Bloom Filter.\")\n",
    "        return result\n",
    "\n",
    "    def show(self) -> None:\n",
    "        print(self.count_array)"
   ],
   "id": "f4a880bc3bf0c32b",
   "outputs": [],
   "execution_count": 193
  },
  {
   "metadata": {
    "ExecuteTime": {
     "end_time": "2024-08-15T17:23:14.107322Z",
     "start_time": "2024-08-15T17:23:14.094320Z"
    }
   },
   "cell_type": "code",
   "source": [
    "def check_count_filter():\n",
    "    hash_funcs = get_random_hash_functions(3)\n",
    "    count_bloom_filter = CountingBloomFilter(size=10,\n",
    "                                             hash_functions=hash_funcs)\n",
    "    \n",
    "    print(\"Adding 'apple' to the filter.\")\n",
    "    count_bloom_filter.add(\"apple\")\n",
    "    \n",
    "    if count_bloom_filter.check(\"apple\"):\n",
    "        print(\"Found apple in the filter.\")\n",
    "        print(\"Removing 'apple' from the filter.\")\n",
    "        count_bloom_filter.remove(\"apple\")\n",
    "        \n",
    "    print(\"Checking 'apple' after removal.\")\n",
    "    if not count_bloom_filter.check(\"apple\"):\n",
    "        print(\"Apple not found in the filter.\")\n",
    "        \n",
    "check_count_filter()"
   ],
   "id": "cb269a79cec4beb7",
   "outputs": [
    {
     "name": "stdout",
     "output_type": "stream",
     "text": [
      "Selected Hash Function 1: djb2_hash\n",
      "Selected Hash Function 2: md5_hash\n",
      "Selected Hash Function 3: sha256_hash\n",
      "\n",
      "\n",
      "Initialized Bloom Filter with size 10 and 3 hash functions.\n",
      "Initialized Counting Bloom Filter with size 10.\n",
      "Adding 'apple' to the filter.\n",
      "Checking 'apple': Present in Counting Bloom Filter.\n",
      "Found apple in the filter.\n",
      "Removing 'apple' from the filter.\n",
      "Checking 'apple' after removal.\n",
      "Checking 'apple': Not Present in Counting Bloom Filter.\n",
      "Apple not found in the filter.\n"
     ]
    }
   ],
   "execution_count": 194
  },
  {
   "metadata": {},
   "cell_type": "markdown",
   "source": [
    "## Scalable Bloom Filter\n",
    "\n",
    "A Scalable Bloom Filter (SBF) is an extension of the standard Bloom Filter that dynamically grows to accommodate more elements while maintaining a specified error rate.\n",
    "\n",
    "#### Key Components:\n",
    "1. **Initial Size**:\n",
    "   - The initial size of the Bloom Filter.\n",
    "2. **Error Rate**:\n",
    "   - The desired false positive rate.\n",
    "3. **Hash Functions**:\n",
    "   - A list of hash functions used to map elements to positions in the bit array.\n",
    "4. **Growth Factor**:\n",
    "   - The factor by which the Bloom Filter size grows when it needs to expand.\n",
    "5. **Capacity Factor**:\n",
    "   - The factor that determines when the Bloom Filter needs to expand based on its fill ratio.\n",
    "6. **Current Filter Size**:\n",
    "   - The current size of the Bloom Filter.\n",
    "7. **Filters**:\n",
    "   - A list of Bloom Filters used to store elements.\n",
    "\n",
    "#### Basic Operations:\n",
    "1. **Add Operation**:\n",
    "   - Adds an item to the Scalable Bloom Filter. If the current filter is full, a new filter is created and the item is added to it.\n",
    "2. **Check Operation**:\n",
    "   - Checks if an item is present in the Scalable Bloom Filter. It checks if the item is present in any of the filters.\n",
    "3. **Expansion Check**:\n",
    "   - Determines if the Bloom Filter needs to be expanded based on its fill ratio and capacity factor."
   ],
   "id": "bfcef9dff28400c3"
  },
  {
   "metadata": {
    "ExecuteTime": {
     "end_time": "2024-08-15T17:23:14.123320Z",
     "start_time": "2024-08-15T17:23:14.108321Z"
    }
   },
   "cell_type": "code",
   "source": [
    "class ScalableBloomFilter:\n",
    "    \"\"\"\n",
    "    A Scalable Bloom Filter (SBF) is an extension of the standard Bloom Filter that dynamically grows to accommodate more elements while maintaining a specified error rate.\n",
    "\n",
    "    Attributes:\n",
    "        initial_size (int): The initial size of the Bloom Filter.\n",
    "        error_rate (float): The desired false positive rate.\n",
    "        hash_functions (list[HashFunction]): A list of hash functions used to map elements to positions in the bit array.\n",
    "        growth_factor (float): The factor by which the Bloom Filter size grows when it needs to expand.\n",
    "        capacity_factor (float): The factor that determines when the Bloom Filter needs to expand based on its fill ratio.\n",
    "        current_filter_size (int): The current size of the Bloom Filter.\n",
    "        filters (List[BloomFilter]): A list of Bloom Filters used to store elements.\n",
    "    \"\"\"\n",
    "    def __init__(self, initial_size: int, error_rate: float, hash_functions: list[HashFunction], growth_factor: float = 2.0, capacity_factor: float = 0.75) -> None:\n",
    "        self.filters: List[BloomFilter] = []\n",
    "        self.initial_size = initial_size\n",
    "        self.error_rate = error_rate\n",
    "        self.hash_functions = hash_functions\n",
    "        self.growth_factor = growth_factor\n",
    "        self.capacity_factor = capacity_factor\n",
    "        self.current_filter_size = initial_size\n",
    "        self._create_new_filter(initial_size, error_rate)\n",
    "        \n",
    "        \n",
    "    def _create_new_filter(self, size: int, error_rate: float) -> None:\n",
    "        new_filter = BloomFilter(size, self.hash_functions)\n",
    "        self.filters.append(new_filter)\n",
    "        \n",
    "        print(f\"Created new Bloom Filter with size {size}.\\n\")\n",
    "        \n",
    "    \n",
    "    def add(self, item: str) -> None:\n",
    "        last_filter = self.filters[-1]\n",
    "        last_filter.add(item)\n",
    "        \n",
    "        if self._is_expansion_needed(last_filter):\n",
    "            self.current_filter_size = int(self.current_filter_size * self.growth_factor)\n",
    "            \n",
    "            filter_size = self.current_filter_size\n",
    "            new_error_rate = self.error_rate / len(self.filters)\n",
    "            self._create_new_filter(filter_size, new_error_rate)\n",
    "        \n",
    "    def check(self, item: str) -> bool:\n",
    "        return any(bloom.check(item) for bloom in self.filters)\n",
    "    \n",
    "    def _is_expansion_needed(self, bl_filter: BloomFilter) -> bool:\n",
    "        num_hashes = len(bl_filter.hash_functions)\n",
    "        optimal_items = int((bl_filter.size * math.log(2)) / num_hashes)\n",
    "        return bl_filter.item_count >= (optimal_items * self.capacity_factor)\n",
    "    \n",
    "    def __str__(self) -> str:\n",
    "        return f\"ScalableBloomFilter with {len(self.filters)} filters, current size: {self.current_filter_size}\"\n",
    "    \n"
   ],
   "id": "cc4b2ee340568089",
   "outputs": [],
   "execution_count": 195
  },
  {
   "metadata": {
    "ExecuteTime": {
     "end_time": "2024-08-15T17:23:14.170319Z",
     "start_time": "2024-08-15T17:23:14.124319Z"
    }
   },
   "cell_type": "code",
   "source": [
    "def check_scale_filter():\n",
    "    hash_funcs = get_random_hash_functions(3)\n",
    "    print(\"Checking for items:\")\n",
    "    sbf = ScalableBloomFilter(initial_size=10,\n",
    "                              error_rate=0.01,\n",
    "                              hash_functions=hash_funcs)\n",
    "    for i in range(1000):\n",
    "        sbf.add(f\"item_{i}\")\n",
    "        if i % 100 == 0:\n",
    "            print(sbf)\n",
    "    \n",
    "    # Check for items\n",
    "    print(\"\\nChecking for items:\")\n",
    "    for i in range(1100):  # Check for 100 items that weren't added\n",
    "        if not sbf.check(f\"item_{i}\"):\n",
    "            print(f\"item_{i} not found\")\n",
    "            \n",
    "check_scale_filter()\n"
   ],
   "id": "664a3e22271a8516",
   "outputs": [
    {
     "name": "stdout",
     "output_type": "stream",
     "text": [
      "Selected Hash Function 1: md5_hash\n",
      "Selected Hash Function 2: djb2_hash\n",
      "Selected Hash Function 3: fnv1a_hash\n",
      "\n",
      "\n",
      "Checking for items:\n",
      "Initialized Bloom Filter with size 10 and 3 hash functions.\n",
      "Created new Bloom Filter with size 10.\n",
      "\n",
      "ScalableBloomFilter with 1 filters, current size: 10\n",
      "Initialized Bloom Filter with size 20 and 3 hash functions.\n",
      "Created new Bloom Filter with size 20.\n",
      "\n",
      "Initialized Bloom Filter with size 40 and 3 hash functions.\n",
      "Created new Bloom Filter with size 40.\n",
      "\n",
      "Initialized Bloom Filter with size 80 and 3 hash functions.\n",
      "Created new Bloom Filter with size 80.\n",
      "\n",
      "Initialized Bloom Filter with size 160 and 3 hash functions.\n",
      "Created new Bloom Filter with size 160.\n",
      "\n",
      "Initialized Bloom Filter with size 320 and 3 hash functions.\n",
      "Created new Bloom Filter with size 320.\n",
      "\n",
      "ScalableBloomFilter with 6 filters, current size: 320\n",
      "Initialized Bloom Filter with size 640 and 3 hash functions.\n",
      "Created new Bloom Filter with size 640.\n",
      "\n",
      "ScalableBloomFilter with 7 filters, current size: 640\n",
      "Initialized Bloom Filter with size 1280 and 3 hash functions.\n",
      "Created new Bloom Filter with size 1280.\n",
      "\n",
      "ScalableBloomFilter with 8 filters, current size: 1280\n",
      "ScalableBloomFilter with 8 filters, current size: 1280\n",
      "Initialized Bloom Filter with size 2560 and 3 hash functions.\n",
      "Created new Bloom Filter with size 2560.\n",
      "\n",
      "ScalableBloomFilter with 9 filters, current size: 2560\n",
      "ScalableBloomFilter with 9 filters, current size: 2560\n",
      "ScalableBloomFilter with 9 filters, current size: 2560\n",
      "ScalableBloomFilter with 9 filters, current size: 2560\n",
      "Initialized Bloom Filter with size 5120 and 3 hash functions.\n",
      "Created new Bloom Filter with size 5120.\n",
      "\n",
      "ScalableBloomFilter with 10 filters, current size: 5120\n",
      "\n",
      "Checking for items:\n",
      "item_1001 not found\n",
      "item_1002 not found\n",
      "item_1009 not found\n",
      "item_1011 not found\n",
      "item_1015 not found\n",
      "item_1016 not found\n",
      "item_1017 not found\n",
      "item_1021 not found\n",
      "item_1022 not found\n",
      "item_1023 not found\n",
      "item_1024 not found\n",
      "item_1025 not found\n",
      "item_1029 not found\n",
      "item_1032 not found\n",
      "item_1037 not found\n",
      "item_1041 not found\n",
      "item_1044 not found\n",
      "item_1045 not found\n",
      "item_1047 not found\n",
      "item_1054 not found\n",
      "item_1055 not found\n",
      "item_1057 not found\n",
      "item_1060 not found\n",
      "item_1064 not found\n",
      "item_1065 not found\n",
      "item_1068 not found\n",
      "item_1070 not found\n",
      "item_1072 not found\n",
      "item_1073 not found\n",
      "item_1077 not found\n",
      "item_1081 not found\n",
      "item_1082 not found\n",
      "item_1083 not found\n",
      "item_1085 not found\n",
      "item_1086 not found\n",
      "item_1089 not found\n",
      "item_1091 not found\n",
      "item_1093 not found\n",
      "item_1094 not found\n",
      "item_1096 not found\n",
      "item_1099 not found\n"
     ]
    }
   ],
   "execution_count": 196
  },
  {
   "metadata": {},
   "cell_type": "markdown",
   "source": [
    "### Compressed Bloom Filter\n",
    "\n",
    "A Compressed Bloom Filter (CBF) is a variant of the standard Bloom Filter designed to reduce the space required to store the filter. This is particularly useful in scenarios where memory is limited or when the Bloom Filter needs to be transmitted over a network.\n",
    "\n",
    "#### Key Concepts:\n",
    "1. **Compression**:\n",
    "   - The bit array of the Bloom Filter is compressed using standard compression techniques (e.g., run-length encoding, Huffman coding, etc.) to reduce its size.\n",
    "\n",
    "2. **Decompression**:\n",
    "   - When an element needs to be added or checked, the compressed bit array is decompressed, the operation is performed, and then the bit array is recompressed.\n",
    "\n",
    "3. **Space Efficiency**:\n",
    "   - By compressing the bit array, the Compressed Bloom Filter achieves better space efficiency compared to a standard Bloom Filter, at the cost of additional computational overhead for compression and decompression.\n",
    "\n",
    "#### Basic Operations:\n",
    "1. **Add Operation**:\n",
    "   - Decompress the bit array.\n",
    "   - Apply the hash functions to the element to get multiple hash values.\n",
    "   - Set the corresponding positions in the bit array to 1.\n",
    "   - Recompress the bit array.\n",
    "\n",
    "2. **Check Operation**:\n",
    "   - Decompress the bit array.\n",
    "   - Apply the hash functions to the element to get multiple hash values.\n",
    "   - Check if all the corresponding positions in the bit array are set to 1.\n",
    "   - Recompress the bit array.\n",
    "\n",
    "3. **Compression and Decompression**:\n",
    "   - Use efficient compression algorithms to minimize the size of the bit array while maintaining the ability to quickly decompress and perform operations.\n",
    "\n",
    "#### Advantages:\n",
    "- **Reduced Memory Usage**: The primary advantage of a Compressed Bloom Filter is its reduced memory footprint, making it suitable for memory-constrained environments.\n",
    "- **Network Efficiency**: Compressed Bloom Filters are more efficient to transmit over a network due to their smaller size.\n",
    "\n",
    "#### Disadvantages:\n",
    "- **Computational Overhead**: The need to compress and decompress the bit array for each operation introduces additional computational overhead.\n",
    "- **Latency**: The time taken for compression and decompression can increase the latency of add and check operations."
   ],
   "id": "59f04dba60f8b688"
  },
  {
   "metadata": {
    "ExecuteTime": {
     "end_time": "2024-08-15T17:23:14.185581Z",
     "start_time": "2024-08-15T17:23:14.171320Z"
    }
   },
   "cell_type": "code",
   "source": [
    "class CompressedBloomFilter:\n",
    "    def __init__(self, size: int, hash_functions: List[HashFunction]):\n",
    "        self.size = size\n",
    "        self.bit_array = [False] * size\n",
    "        self.hash_functions = hash_functions\n",
    "        print(f\"Initialized Compressed Bloom Filter with size {size} and {len(hash_functions)} hash functions.\")\n",
    "        \n",
    "    def add(self, item: str) -> None:\n",
    "        for i, hash_function in enumerate(self.hash_functions):\n",
    "            index = hash_function(item, i) % self.size\n",
    "            self.bit_array[index] = True\n",
    "            \n",
    "            \n",
    "    def check(self, item: str) -> bool:\n",
    "        for i, hash_function in enumerate(self.hash_functions):\n",
    "            index = hash_function(item, i) % self.size\n",
    "            if not self.bit_array[index]:\n",
    "                return False\n",
    "        return True\n",
    "     \n",
    "    def compress(self) -> bytes:\n",
    "        \n",
    "        compressed = []\n",
    "        count = 1\n",
    "        current = self.bit_array[0]\n",
    "        \n",
    "        for bit in self.bit_array[1:]:\n",
    "            if bit == current:\n",
    "                count += 1\n",
    "            else:\n",
    "                compressed.append((count, current))\n",
    "                count = 1\n",
    "                current = bit\n",
    "\n",
    "        compressed.append((count, current))\n",
    "        result = bytearray()\n",
    "        for count, value in compressed:\n",
    "            result.extend(count.to_bytes(2, byteorder='big'))\n",
    "            result.append(1 if value else 0)\n",
    "\n",
    "        return bytes(result)\n",
    "    \n",
    "    @classmethod\n",
    "    def decompress(cls, compressed: bytes, size: int, hash_functions: List[HashFunction]) -> 'CompressedBloomFilter':\n",
    "        \"\"\"Decompress a compressed bit array and create a CompressedBloomFilter instance.\"\"\"\n",
    "        cmp_filter = cls(size, hash_functions)\n",
    "        bit_array = []\n",
    "\n",
    "        i = 0\n",
    "        while i < len(compressed):\n",
    "            count = int.from_bytes(compressed[i:i+2], byteorder='big')\n",
    "            value = bool(compressed[i+2])\n",
    "            bit_array.extend([value] * count)\n",
    "            i += 3\n",
    "\n",
    "        cmp_filter.bit_array = bit_array[:size]  # Ensure we don't exceed the specified size\n",
    "        return cmp_filter"
   ],
   "id": "92763c05f9dee8f4",
   "outputs": [],
   "execution_count": 197
  },
  {
   "metadata": {
    "ExecuteTime": {
     "end_time": "2024-08-15T17:23:14.201588Z",
     "start_time": "2024-08-15T17:23:14.187588Z"
    }
   },
   "cell_type": "code",
   "source": [
    "def check_cmp_filter(expected_elements: int, fp_rate: float):\n",
    "    \n",
    "    size = optimal_filter_size(expected_elements, fp_rate)\n",
    "    hash_cnt = optimal_number_of_hashes(size, expected_elements)\n",
    "    hash_funcs = get_random_hash_functions(hash_cnt)\n",
    "    \n",
    "    print(f\"Optimal size: {size}\")\n",
    "    print(f\"Optimal number of hash functions: {hash_cnt}\")\n",
    "    cmp_filter = CompressedBloomFilter(size=size,\n",
    "                                       hash_functions=hash_funcs)\n",
    "    \n",
    "    for i in range(expected_elements):\n",
    "        cmp_filter.add(f\"element_{i}\")\n",
    "        \n",
    "    compressed = cmp_filter.compress()\n",
    "    print(f\"Compressed size: {len(compressed)} bytes\")\n",
    "    print(f\"Compression ratio: {len(compressed) / (size // 8):.2f}\")\n",
    "    \n",
    "    # Decompress the filter\n",
    "    decompressed_bf = CompressedBloomFilter.decompress(compressed, size, funcs)\n",
    "\n",
    "    # Check for elements\n",
    "    true_positives = sum(1 for i in range(expected_elements) if decompressed_bf.check(f\"element_{i}\"))\n",
    "    false_positives = sum(1 for i in range(expected_elements, expected_elements*2) if decompressed_bf.check(f\"element_{i}\"))\n",
    "    \n",
    "    print(f\"True positives: {true_positives}\")\n",
    "    print(f\"False positives: {false_positives}\")\n",
    "    print(f\"Actual false positive rate: {false_positives / expected_elements:.4f}\")\n",
    "    \n",
    "    \n",
    "    \n",
    "check_cmp_filter(1000, 0.01)"
   ],
   "id": "79ea57579b5ac0f1",
   "outputs": [
    {
     "name": "stdout",
     "output_type": "stream",
     "text": [
      "Selected Hash Function 1: md5_hash\n",
      "\n",
      "\n",
      "Optimal size: 9586\n",
      "Optimal number of hash functions: 7\n",
      "Initialized Compressed Bloom Filter with size 9586 and 1 hash functions.\n",
      "Compressed size: 5217 bytes\n",
      "Compression ratio: 4.35\n",
      "Initialized Compressed Bloom Filter with size 9586 and 3 hash functions.\n",
      "True positives: 5\n",
      "False positives: 3\n",
      "Actual false positive rate: 0.0030\n"
     ]
    }
   ],
   "execution_count": 198
  },
  {
   "metadata": {
    "ExecuteTime": {
     "end_time": "2024-08-15T17:23:14.217548Z",
     "start_time": "2024-08-15T17:23:14.202594Z"
    }
   },
   "cell_type": "code",
   "source": [
    "import math\n",
    "\n",
    "\n",
    "class SpatialBloomFilter:\n",
    "    \n",
    "    def __init__(self, size: int, hash_funcs: list[HashFunction]):\n",
    "        self.size = size\n",
    "        self.hash_funcs = hash_funcs\n",
    "        self.bit_array = [0] * size\n",
    "        \n",
    "    \n",
    "    def add(self, area_id: int, points: set[tuple[float, float]]) -> None:\n",
    "        for point in points:\n",
    "            for hash_func in self.hash_funcs:\n",
    "                index = hash_func(str(point)) % self.size\n",
    "                self.bit_array[index] = max(self.bit_array[index], area_id)\n",
    "                \n",
    "    def check(self, point: tuple[float, float]):\n",
    "        max_area_id = 0\n",
    "        for hash_func in self.hash_funcs:\n",
    "            index = hash_func(str(point)) % self.size\n",
    "            max_area_id = max(max_area_id, self.bit_array[index])\n",
    "        return max_area_id\n",
    "        \n",
    "def discretize_area(center: tuple[float, float], radius: float, num_points: int) -> set[tuple[float, float]]:\n",
    "    \"\"\"\n",
    "    Discretize a circular area into a set of points.\n",
    "    this function generates random points within a circle centered at the given center coordinates with the specified radius.\n",
    "    \n",
    "    Args:\n",
    "    center (Tuple[float, float]): The (x, y) coordinates of the circle's center.\n",
    "    radius (float): The radius of the circle.\n",
    "    num_points (int): The number of points to generate.\n",
    "    \n",
    "    Returns:\n",
    "    Set[Tuple[float, float]]: A set of (x, y) coordinates representing the area.\n",
    "    \"\"\"\n",
    "    points = set()\n",
    "    for _ in range(num_points):\n",
    "        angle = 2 * math.pi * random.random()\n",
    "        r = radius * math.sqrt(random.random())\n",
    "        x = center[0] + r * math.cos(angle)\n",
    "        y = center[1] + r * math.sin(angle)\n",
    "        points.add((round(x, 2), round(y, 2)))\n",
    "    return points"
   ],
   "id": "aa992761951157f8",
   "outputs": [],
   "execution_count": 199
  },
  {
   "metadata": {
    "ExecuteTime": {
     "end_time": "2024-08-15T17:23:14.233558Z",
     "start_time": "2024-08-15T17:23:14.219548Z"
    }
   },
   "cell_type": "code",
   "source": [
    "def check_spatial_filter(fp_rate: float):\n",
    "    area1 = discretize_area((0, 0), 5, 1000)\n",
    "    area2 = discretize_area((10, 10), 3, 500)\n",
    "    area3 = discretize_area((-5, 5), 2, 300)\n",
    "    \n",
    "    total_points = len(area1) + len(area2) + len(area3)\n",
    "    size = optimal_filter_size(total_points, fp_rate)\n",
    "    hash_cnt = optimal_number_of_hashes(size, total_points)\n",
    "    \n",
    "    print(f\"Optimal size: {size} and optimal number of hash functions: {hash_cnt}\")\n",
    "    \n",
    "    hash_funcs = get_random_hash_functions(hash_cnt)\n",
    "    spatial_filter = SpatialBloomFilter(size, hash_funcs)\n",
    "    \n",
    "    spatial_filter.add(1, area1)\n",
    "    spatial_filter.add(2, area2)\n",
    "    spatial_filter.add(3, area3)\n",
    "    \n",
    "    # Query points\n",
    "    print(f\"Point (1, 1) belongs to area: {spatial_filter.check((1, 1))}\")\n",
    "    print(f\"Point (11, 11) belongs to area: {spatial_filter.check((11, 11))}\")\n",
    "    print(f\"Point (-4, 6) belongs to area: {spatial_filter.check((-4, 6))}\")\n",
    "    print(f\"Point (20, 20) belongs to area: {spatial_filter.check((20, 20))}\")\n",
    "    \n",
    "\n",
    "check_spatial_filter(0.01)"
   ],
   "id": "949f8834c422d387",
   "outputs": [
    {
     "name": "stdout",
     "output_type": "stream",
     "text": [
      "Optimal size: 17215 and optimal number of hash functions: 7\n",
      "Selected Hash Function 1: fnv1a_hash\n",
      "\n",
      "\n",
      "Point (1, 1) belongs to area: 0\n",
      "Point (11, 11) belongs to area: 0\n",
      "Point (-4, 6) belongs to area: 1\n",
      "Point (20, 20) belongs to area: 0\n"
     ]
    }
   ],
   "execution_count": 200
  },
  {
   "metadata": {
    "ExecuteTime": {
     "end_time": "2024-08-15T17:23:14.249556Z",
     "start_time": "2024-08-15T17:23:14.234562Z"
    }
   },
   "cell_type": "code",
   "source": "",
   "id": "6937e04fa85aa21c",
   "outputs": [],
   "execution_count": 200
  }
 ],
 "metadata": {
  "kernelspec": {
   "display_name": "Python 3",
   "language": "python",
   "name": "python3"
  },
  "language_info": {
   "codemirror_mode": {
    "name": "ipython",
    "version": 2
   },
   "file_extension": ".py",
   "mimetype": "text/x-python",
   "name": "python",
   "nbconvert_exporter": "python",
   "pygments_lexer": "ipython2",
   "version": "2.7.6"
  }
 },
 "nbformat": 4,
 "nbformat_minor": 5
}
