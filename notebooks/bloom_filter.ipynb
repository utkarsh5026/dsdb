{
 "cells": [
  {
   "cell_type": "code",
   "id": "65a39184b77895e3",
   "metadata": {
    "ExecuteTime": {
     "end_time": "2024-08-15T16:05:22.296487Z",
     "start_time": "2024-08-15T16:05:21.130386Z"
    }
   },
   "source": [
    "!pip install mmh3"
   ],
   "outputs": [
    {
     "name": "stderr",
     "output_type": "stream",
     "text": [
      "WARNING: You are using pip version 20.2.3; however, version 24.2 is available.\n",
      "You should consider upgrading via the 'c:\\users\\utkarsh priyadarshi\\appdata\\local\\programs\\python\\python39\\python.exe -m pip install --upgrade pip' command.\n"
     ]
    },
    {
     "name": "stdout",
     "output_type": "stream",
     "text": [
      "Requirement already satisfied: mmh3 in c:\\users\\utkarsh priyadarshi\\appdata\\local\\programs\\python\\python39\\lib\\site-packages (4.1.0)\n"
     ]
    }
   ],
   "execution_count": 98
  },
  {
   "cell_type": "markdown",
   "id": "16d14861",
   "metadata": {},
   "source": [
    "# Bloom Filter\n",
    "This is part of the series **Mastering Data Structures for Databases**\n",
    "You can find the article at https://medium.com/@utkarshpriyadarshi5026/mastering-data-structures-for-databases-part-3-bloom-filters-f92f3bff7dcc "
   ]
  },
  {
   "cell_type": "markdown",
   "id": "8b85b03d91ff3bad",
   "metadata": {},
   "source": [
    "## Hash functions used in the Bloom Filter"
   ]
  },
  {
   "cell_type": "markdown",
   "id": "3ba65e9996bae7ed",
   "metadata": {},
   "source": [
    "Let's create a hash function type that will be used in the Bloom Filter.\n",
    "\n",
    "Our hash function will take two arguments:\n",
    "- a string to be hashed\n",
    "- an integer that will be used as a seed for the hash function"
   ]
  },
  {
   "cell_type": "code",
   "id": "820c596f658a878a",
   "metadata": {
    "ExecuteTime": {
     "end_time": "2024-08-15T16:05:22.312399Z",
     "start_time": "2024-08-15T16:05:22.299390Z"
    }
   },
   "source": [
    "from typing import Callable\n",
    "\n",
    "HashFunction = Callable[[str, int], int]\n"
   ],
   "outputs": [],
   "execution_count": 99
  },
  {
   "cell_type": "markdown",
   "id": "f9f4f46e1f8831e",
   "metadata": {},
   "source": [
    "### CryptoGraphic Hash Functions \n",
    "\n",
    "Different types of hash functions can be used in the Bloom Filter.\n"
   ]
  },
  {
   "cell_type": "code",
   "id": "a84d460f2d4dbbe8",
   "metadata": {
    "ExecuteTime": {
     "end_time": "2024-08-15T16:05:22.328491Z",
     "start_time": "2024-08-15T16:05:22.313391Z"
    }
   },
   "source": [
    "import hashlib\n",
    "\n",
    "def sha256_hash(item: str, seed: int = 0) -> int:\n",
    "    hash_value = int(hashlib.sha256((item + str(seed)).encode()).hexdigest(), 16)\n",
    "    return hash_value\n",
    "\n",
    "def md5_hash(item: str, seed: int = 0) -> int:\n",
    "    hash_value = int(hashlib.md5((item + str(seed)).encode()).hexdigest(), 16)\n",
    "    return hash_value\n",
    "\n",
    "def sha1_hash(item: str, seed: int = 0) -> int:\n",
    "    return int(hashlib.sha1((item + str(seed)).encode()).hexdigest(), 16)"
   ],
   "outputs": [],
   "execution_count": 100
  },
  {
   "cell_type": "markdown",
   "id": "2e6fda92dbf95482",
   "metadata": {},
   "source": [
    "### Non-Cryptographic Hash Functions\n",
    "\n",
    "#### Murmur Hash\n",
    "MurmurHash processes the input data in blocks, mixing the bits in each block to produce a final hash value. It uses a combination of multiplication and bitwise operations to achieve a good distribution of hash values.\n",
    "#### DJB2 Hash\n",
    "DJB2 starts with an initial hash value (often 5381) and iterates over each character in the input string. For each character, it multiplies the current hash value by 33 and adds the ASCII value of the character. This process is repeated for all characters in the input string.\n",
    "#### FNV-1a Hash\n",
    "FNV-1a starts with an initial hash value (FNV offset basis) and iterates over each character in the input string. For each character, it XORs the current hash value with the ASCII value of the character and then multiplies the result by the FNV prime. This process is repeated for all characters in the input string.\n"
   ]
  },
  {
   "cell_type": "code",
   "id": "12476686ced1d348",
   "metadata": {
    "ExecuteTime": {
     "end_time": "2024-08-15T16:05:22.344498Z",
     "start_time": "2024-08-15T16:05:22.331490Z"
    }
   },
   "source": [
    "import mmh3\n",
    "\n",
    "def murmur_hash(item: str, seed: int = 0) -> int:\n",
    "    hash_value = mmh3.hash(item, seed)\n",
    "    return hash_value\n",
    "\n",
    "def djb2_hash(item: str, seed: int = 0) -> int:\n",
    "    hash_value = seed\n",
    "    for char in item:\n",
    "        hash_value = ((hash_value << 5) + hash_value) + ord(char)\n",
    "    return hash_value & 0xFFFFFFFF\n",
    "\n",
    "def fnv1a_hash(item: str, seed: int = 0) -> int:\n",
    "    hash_value = 0x811c9dc5 + seed # FNV offset basis\n",
    "    fnv_prime = 0x01000193 # 32 bit FNV prime\n",
    "    for char in item:\n",
    "        hash_value ^= ord(char) # XOR\n",
    "        hash_value *= fnv_prime # Multiplication\n",
    "    return hash_value & 0xFFFFFFFF "
   ],
   "outputs": [],
   "execution_count": 101
  },
  {
   "cell_type": "markdown",
   "id": "2e3ce47d8de8fcf6",
   "metadata": {},
   "source": [
    "## Structure of the Bloom Filter\n",
    "A Bloom filter is a space-efficient probabilistic data structure used to test whether an element is a member of a set. The structure of a Bloom filter consists of the following components:\n",
    "\n",
    "1. Bit Array:  \n",
    "    - A fixed-size bit array (or bit vector) initialized to all zeros. The size of the bit array determines the accuracy and space efficiency of the Bloom filter.\n",
    "2. Hash Functions:  \n",
    "    - Multiple independent hash functions that map elements to positions in the bit array. Each hash function should uniformly distribute the input elements across the bit array.\n",
    "\n",
    "## Operations on the Bloom Filter\n",
    "\n",
    "1. Add:\n",
    "    - To add an element to the Bloom filter, each hash function is applied to the element to get multiple hash values. The corresponding positions in the bit array are then set to 1\n",
    "2. Check:\n",
    "    - To check if an element is in the Bloom filter, each hash function is applied to the element to get multiple hash values. If all the corresponding positions in the bit array are set to 1, the element is likely in the set. If any position is 0, the element is definitely not in the set."
   ]
  },
  {
   "cell_type": "markdown",
   "id": "5f625fcfb57e16a3",
   "metadata": {},
   "source": []
  },
  {
   "cell_type": "code",
   "id": "dc072666956aeaff",
   "metadata": {
    "ExecuteTime": {
     "end_time": "2024-08-15T16:05:22.360489Z",
     "start_time": "2024-08-15T16:05:22.346495Z"
    }
   },
   "source": [
    "from typing import List\n",
    "\n",
    "class BloomFilter:\n",
    "    def __init__(self, size: int, hash_functions: List[HashFunction]) -> None:\n",
    "        \"\"\"\n",
    "        Initializes the Bloom Filter with a given size and list of hash functions.\n",
    "        \n",
    "        Args:\n",
    "            size (int): The size of the bit array.\n",
    "            hash_functions (List[HashFunction]): A list of hash functions.\n",
    "        \"\"\"\n",
    "        self.size = size\n",
    "        self.hash_functions = hash_functions\n",
    "        self.bit_array = [0] * size\n",
    "        self.item_count = 0\n",
    "        print(f\"Initialized Bloom Filter with size {size} and {len(hash_functions)} hash functions.\")\n",
    "\n",
    "    def _hashes(self, item: str) -> List[int]:\n",
    "        \"\"\"\n",
    "        Computes the hash values for a given item using the hash functions.\n",
    "        \n",
    "        Args:\n",
    "            item (str): The item to be hashed.\n",
    "        \n",
    "        Returns:\n",
    "            List[int]: A list of hash values.\n",
    "        \"\"\"\n",
    "        hashes = []\n",
    "        for i, hash_func in enumerate(self.hash_functions):\n",
    "            hash_value = hash_func(item, i) % self.size\n",
    "            hashes.append(hash_value)\n",
    "           \n",
    "        return hashes\n",
    "\n",
    "    def add(self, item: str) -> None:\n",
    "        \"\"\"\n",
    "        Adds an item to the Bloom Filter.\n",
    "        \n",
    "        Args:\n",
    "            item (str): The item to be added.\n",
    "        \"\"\"\n",
    "        hashes = self._hashes(item)\n",
    "        for i, hash_value in enumerate(hashes):\n",
    "            self.bit_array[hash_value] = 1\n",
    "        \n",
    "        self.item_count += 1\n",
    "\n",
    "    def check(self, item: str) -> bool:\n",
    "        \"\"\"\n",
    "        Checks if an item is present in the Bloom Filter.\n",
    "        \n",
    "        Args:\n",
    "            item (str): The item to be checked.\n",
    "        \n",
    "        Returns:\n",
    "            bool: True if the item is likely present, False if the item is definitely not present.\n",
    "        \"\"\"\n",
    "        hashes = self._hashes(item)\n",
    "        result = all(self.bit_array[hash_value] == 1 for hash_value in hashes)\n",
    "        return result\n",
    "    \n",
    "    def show(self):\n",
    "        print(self.bit_array)"
   ],
   "outputs": [],
   "execution_count": 102
  },
  {
   "metadata": {
    "ExecuteTime": {
     "end_time": "2024-08-15T16:05:22.376489Z",
     "start_time": "2024-08-15T16:05:22.362490Z"
    }
   },
   "cell_type": "code",
   "source": [
    "import random\n",
    "\n",
    "def get_random_hash_functions(num_functions: int) -> List[HashFunction]:\n",
    "    available_hash_functions: List[HashFunction] = [\n",
    "        sha256_hash,\n",
    "        md5_hash,\n",
    "        sha1_hash,\n",
    "        murmur_hash,\n",
    "        djb2_hash,\n",
    "        fnv1a_hash\n",
    "    ]\n",
    "    if num_functions > len(available_hash_functions):\n",
    "        raise ValueError(\"Number of hash functions exceeds the available functions.\")\n",
    "    \n",
    "    selected_functions = random.sample(available_hash_functions, num_functions)\n",
    "    \n",
    "    for i, func in enumerate(selected_functions):\n",
    "        print(f\"Selected Hash Function {i+1}: {func.__name__}\")\n",
    "        \n",
    "    print(\"\\n\")\n",
    "    return selected_functions"
   ],
   "id": "7f70404abb605ebf",
   "outputs": [],
   "execution_count": 103
  },
  {
   "cell_type": "markdown",
   "id": "6b2337cc972988f4",
   "metadata": {},
   "source": []
  },
  {
   "cell_type": "code",
   "id": "7f921c39e6d4fc98",
   "metadata": {
    "ExecuteTime": {
     "end_time": "2024-08-15T16:05:22.392169Z",
     "start_time": "2024-08-15T16:05:22.377489Z"
    }
   },
   "source": [
    "funcs = get_random_hash_functions(3)\n",
    "bloom_filter = BloomFilter(10, funcs)"
   ],
   "outputs": [
    {
     "name": "stdout",
     "output_type": "stream",
     "text": [
      "Selected Hash Function 1: murmur_hash\n",
      "Selected Hash Function 2: fnv1a_hash\n",
      "Selected Hash Function 3: sha256_hash\n",
      "\n",
      "\n",
      "Initialized Bloom Filter with size 10 and 3 hash functions.\n"
     ]
    }
   ],
   "execution_count": 104
  },
  {
   "cell_type": "code",
   "id": "22b7c50f80438466",
   "metadata": {
    "ExecuteTime": {
     "end_time": "2024-08-15T16:05:22.408162Z",
     "start_time": "2024-08-15T16:05:22.393171Z"
    }
   },
   "source": [
    "bloom_filter.add(\"apple\")\n",
    "bloom_filter.check(\"apple\")"
   ],
   "outputs": [
    {
     "data": {
      "text/plain": [
       "True"
      ]
     },
     "execution_count": 105,
     "metadata": {},
     "output_type": "execute_result"
    }
   ],
   "execution_count": 105
  },
  {
   "metadata": {},
   "cell_type": "markdown",
   "source": [
    "## Counting Bloom Filter\n",
    "\n",
    "A Counting Bloom Filter (CBF) is an extension of the standard Bloom Filter that allows for the removal of elements. It achieves this by using an array of counters instead of a simple bit array. Each counter keeps track of the number of times a particular position has been set, enabling both addition and deletion of elements.\n",
    "\n",
    "#### Key Components:\n",
    "1. **Count Array**:\n",
    "   - An array of integers (counters) initialized to all zeros. Each counter represents the number of times a particular bit position has been set.\n",
    "\n",
    "2. **Hash Functions**:\n",
    "   - Multiple independent hash functions that map elements to positions in the count array. Each hash function should uniformly distribute the input elements across the count array.\n",
    "\n",
    "#### Basic Operations:\n",
    "1. **Add Operation**:\n",
    "   - To add an element, each hash function is applied to the element to get multiple hash values. The corresponding positions in the count array are incremented by 1.\n",
    "\n",
    "2. **Remove Operation**:\n",
    "   - To remove an element, each hash function is applied to the element to get multiple hash values. The corresponding positions in the count array are decremented by 1, ensuring the count does not go below zero.\n",
    "\n",
    "3. **Check Operation**:\n",
    "   - To check if an element is in the filter, each hash function is applied to the element to get multiple hash values. If all the corresponding positions in the count array are greater than zero, the element is likely in the set. If any position is zero, the element is definitely not in the set."
   ],
   "id": "bbd396d2a2075622"
  },
  {
   "metadata": {
    "ExecuteTime": {
     "end_time": "2024-08-15T16:05:22.424163Z",
     "start_time": "2024-08-15T16:05:22.410167Z"
    }
   },
   "cell_type": "code",
   "source": [
    "class CountingBloomFilter(BloomFilter):\n",
    "    \"\"\"\n",
    "    A Counting Bloom Filter (CBF) is an extension of the standard Bloom Filter that allows for the removal of elements.\n",
    "    It uses an array of counters instead of a simple bit array to keep track of the number of times a particular position has been set.\n",
    "\n",
    "    Attributes:\n",
    "        size (int): The size of the count array.\n",
    "        hash_functions (List[HashFunction]): A list of hash functions used to map elements to positions in the count array.\n",
    "        count_array (List[int]): The count array used to store the presence of elements.\n",
    "    \"\"\"\n",
    "\n",
    "    def __init__(self, size: int, hash_functions: List[HashFunction]) -> None:\n",
    "        \"\"\"\n",
    "        Initializes the Counting Bloom Filter with a given size and list of hash functions.\n",
    "\n",
    "        Args:\n",
    "            size (int): The size of the count array.\n",
    "            hash_functions (List[HashFunction]): A list of hash functions.\n",
    "        \"\"\"\n",
    "        super().__init__(size, hash_functions)\n",
    "        # Initialize a count array instead of a bit array\n",
    "        self.count_array = [0] * size\n",
    "        print(f\"Initialized Counting Bloom Filter with size {size}.\")\n",
    "\n",
    "    def add(self, item: str) -> None:\n",
    "        \"\"\"\n",
    "        Adds an item to the Counting Bloom Filter.\n",
    "\n",
    "        Args:\n",
    "            item (str): The item to be added.\n",
    "        \"\"\"\n",
    "        hashes = self._hashes(item)\n",
    "        for i, hash_value in enumerate(hashes):\n",
    "            self.count_array[hash_value] += 1\n",
    "            \n",
    "\n",
    "    def remove(self, item: str) -> None:\n",
    "        \"\"\"\n",
    "        Removes an item from the Counting Bloom Filter.\n",
    "\n",
    "        Args:\n",
    "            item (str): The item to be removed.\n",
    "        \"\"\"\n",
    "        hashes = self._hashes(item)\n",
    "        for i, hash_value in enumerate(hashes):\n",
    "            if self.count_array[hash_value] > 0:\n",
    "                # Decrement the count if it's greater than 0\n",
    "                self.count_array[hash_value] -= 1\n",
    "              \n",
    "\n",
    "    def check(self, item: str) -> bool:\n",
    "        \"\"\"\n",
    "        Checks if an item is present in the Counting Bloom Filter.\n",
    "\n",
    "        Args:\n",
    "            item (str): The item to be checked.\n",
    "\n",
    "        Returns:\n",
    "            bool: True if the item is likely present, False if the item is definitely not present.\n",
    "        \"\"\"\n",
    "        hashes = self._hashes(item)\n",
    "        result = all(self.count_array[hash_value] > 0 for hash_value in hashes)\n",
    "        print(f\"Checking '{item}': {'Present' if result else 'Not Present'} in Counting Bloom Filter.\")\n",
    "        return result\n",
    "\n",
    "    def show(self) -> None:\n",
    "        \"\"\"\n",
    "        Displays the current state of the count array.\n",
    "        \"\"\"\n",
    "        print(self.count_array)"
   ],
   "id": "f4a880bc3bf0c32b",
   "outputs": [],
   "execution_count": 106
  },
  {
   "metadata": {
    "ExecuteTime": {
     "end_time": "2024-08-15T16:05:22.440170Z",
     "start_time": "2024-08-15T16:05:22.426165Z"
    }
   },
   "cell_type": "code",
   "source": [
    "funcs = get_random_hash_functions(3)\n",
    "count_bloom_filter = CountingBloomFilter(10, funcs)\n",
    "\n",
    "print(\"Adding 'apple' to the filter.\")\n",
    "count_bloom_filter.add(\"apple\")\n",
    "\n",
    "if count_bloom_filter.check(\"apple\"):\n",
    "    print(\"Found apple in the filter.\")\n",
    "    print(\"Removing 'apple' from the filter.\")\n",
    "    count_bloom_filter.remove(\"apple\")\n",
    "    \n",
    "print(\"Checking 'apple' after removal.\")\n",
    "if not count_bloom_filter.check(\"apple\"):\n",
    "    print(\"Apple not found in the filter.\")"
   ],
   "id": "cb269a79cec4beb7",
   "outputs": [
    {
     "name": "stdout",
     "output_type": "stream",
     "text": [
      "Selected Hash Function 1: md5_hash\n",
      "Selected Hash Function 2: fnv1a_hash\n",
      "Selected Hash Function 3: murmur_hash\n",
      "\n",
      "\n",
      "Initialized Bloom Filter with size 10 and 3 hash functions.\n",
      "Initialized Counting Bloom Filter with size 10.\n",
      "Adding 'apple' to the filter.\n",
      "Checking 'apple': Present in Counting Bloom Filter.\n",
      "Found apple in the filter.\n",
      "Removing 'apple' from the filter.\n",
      "Checking 'apple' after removal.\n",
      "Checking 'apple': Not Present in Counting Bloom Filter.\n",
      "Apple not found in the filter.\n"
     ]
    }
   ],
   "execution_count": 107
  },
  {
   "metadata": {},
   "cell_type": "markdown",
   "source": [
    "## Scalable Bloom Filter\n",
    "\n",
    "A Scalable Bloom Filter (SBF) is an extension of the standard Bloom Filter that dynamically grows to accommodate more elements while maintaining a specified error rate.\n",
    "\n",
    "#### Key Components:\n",
    "1. **Initial Size**:\n",
    "   - The initial size of the Bloom Filter.\n",
    "2. **Error Rate**:\n",
    "   - The desired false positive rate.\n",
    "3. **Hash Functions**:\n",
    "   - A list of hash functions used to map elements to positions in the bit array.\n",
    "4. **Growth Factor**:\n",
    "   - The factor by which the Bloom Filter size grows when it needs to expand.\n",
    "5. **Capacity Factor**:\n",
    "   - The factor that determines when the Bloom Filter needs to expand based on its fill ratio.\n",
    "6. **Current Filter Size**:\n",
    "   - The current size of the Bloom Filter.\n",
    "7. **Filters**:\n",
    "   - A list of Bloom Filters used to store elements.\n",
    "\n",
    "#### Basic Operations:\n",
    "1. **Add Operation**:\n",
    "   - Adds an item to the Scalable Bloom Filter. If the current filter is full, a new filter is created and the item is added to it.\n",
    "2. **Check Operation**:\n",
    "   - Checks if an item is present in the Scalable Bloom Filter. It checks if the item is present in any of the filters.\n",
    "3. **Expansion Check**:\n",
    "   - Determines if the Bloom Filter needs to be expanded based on its fill ratio and capacity factor."
   ],
   "id": "bfcef9dff28400c3"
  },
  {
   "metadata": {
    "ExecuteTime": {
     "end_time": "2024-08-15T16:09:16.897975Z",
     "start_time": "2024-08-15T16:09:16.883973Z"
    }
   },
   "cell_type": "code",
   "source": [
    "import math\n",
    "\n",
    "class ScalableBloomFilter:\n",
    "    \"\"\"\n",
    "    A Scalable Bloom Filter (SBF) is an extension of the standard Bloom Filter that dynamically grows to accommodate more elements while maintaining a specified error rate.\n",
    "\n",
    "    Attributes:\n",
    "        initial_size (int): The initial size of the Bloom Filter.\n",
    "        error_rate (float): The desired false positive rate.\n",
    "        hash_functions (list[HashFunction]): A list of hash functions used to map elements to positions in the bit array.\n",
    "        growth_factor (float): The factor by which the Bloom Filter size grows when it needs to expand.\n",
    "        capacity_factor (float): The factor that determines when the Bloom Filter needs to expand based on its fill ratio.\n",
    "        current_filter_size (int): The current size of the Bloom Filter.\n",
    "        filters (List[BloomFilter]): A list of Bloom Filters used to store elements.\n",
    "    \"\"\"\n",
    "    def __init__(self, initial_size: int, error_rate: float, hash_functions: list[HashFunction], growth_factor: float = 2.0, capacity_factor: float = 0.75) -> None:\n",
    "        \"\"\"\n",
    "        Initializes the Scalable Bloom Filter with the given parameters.\n",
    "\n",
    "        Args:\n",
    "            initial_size (int): The initial size of the Bloom Filter.\n",
    "            error_rate (float): The desired false positive rate.\n",
    "            hash_functions (list[HashFunction]): A list of hash functions.\n",
    "            growth_factor (float): The factor by which the Bloom Filter size grows when it needs to expand.\n",
    "            capacity_factor (float): The factor that determines when the Bloom Filter needs to expand based on its fill ratio.\n",
    "        \"\"\"\n",
    "        self.filters: List[BloomFilter] = []\n",
    "        self.initial_size = initial_size\n",
    "        self.error_rate = error_rate\n",
    "        self.hash_functions = hash_functions\n",
    "        self.growth_factor = growth_factor\n",
    "        self.capacity_factor = capacity_factor\n",
    "        self.current_filter_size = initial_size\n",
    "        self._create_new_filter(initial_size, error_rate)\n",
    "        \n",
    "        \n",
    "    def _create_new_filter(self, size: int, error_rate: float) -> None:\n",
    "        \"\"\"\n",
    "        Creates a new Bloom Filter and adds it to the list of filters.\n",
    "\n",
    "        Args:\n",
    "            size (int): The size of the new Bloom Filter.\n",
    "            error_rate (float): The desired false positive rate for the new Bloom Filter.\n",
    "        \"\"\"\n",
    "        new_filter = BloomFilter(size, self.hash_functions)\n",
    "        self.filters.append(new_filter)\n",
    "        \n",
    "        print(f\"Created new Bloom Filter with size {size}.\\n\")\n",
    "        \n",
    "    \n",
    "    def add(self, item: str) -> None:\n",
    "        \"\"\"\n",
    "        Adds an item to the Scalable Bloom Filter.\n",
    "        if the current filter is full, a new filter is created and the item is added to it.\n",
    "\n",
    "        Args:\n",
    "            item (str): The item to be added.\n",
    "        \"\"\"\n",
    "        last_filter = self.filters[-1]\n",
    "        last_filter.add(item)\n",
    "        \n",
    "        if self._is_expansion_needed(last_filter):\n",
    "            self.current_filter_size = int(self.current_filter_size * self.growth_factor)\n",
    "            \n",
    "            filter_size = self.current_filter_size\n",
    "            new_error_rate = self.error_rate / len(self.filters)\n",
    "            self._create_new_filter(filter_size, new_error_rate)\n",
    "        \n",
    "    def check(self, item: str) -> bool:\n",
    "        \"\"\"\n",
    "        Checks if an item is present in the Scalable Bloom Filter. it checks if the item is present in any of the filters.\n",
    "\n",
    "        Args:\n",
    "            item (str): The item to be checked.\n",
    "\n",
    "        Returns:\n",
    "            bool: True if the item is likely present, False if the item is definitely not present.\n",
    "        \"\"\"\n",
    "        return any(bloom.check(item) for bloom in self.filters)\n",
    "    \n",
    "    def _is_expansion_needed(self, bl_filter: BloomFilter) -> bool:\n",
    "        \"\"\"\n",
    "        Determines if the Bloom Filter needs to be expanded based on its fill ratio and capacity factor.\n",
    "\n",
    "        Args:\n",
    "            bl_filter (BloomFilter): The Bloom Filter to be checked.\n",
    "\n",
    "        Returns:\n",
    "            bool: True if expansion is needed, False otherwise.\n",
    "        \"\"\"\n",
    "        \n",
    "        # Calculate the optimal number of items for this filter\n",
    "        num_hashes = len(bl_filter.hash_functions)\n",
    "        optimal_items = int((bl_filter.size * math.log(2)) / num_hashes)\n",
    "        return bl_filter.item_count >= (optimal_items * self.capacity_factor)\n",
    "    \n",
    "    def __str__(self) -> str:\n",
    "        return f\"ScalableBloomFilter with {len(self.filters)} filters, current size: {self.current_filter_size}\"\n",
    "    \n"
   ],
   "id": "cc4b2ee340568089",
   "outputs": [],
   "execution_count": 113
  },
  {
   "metadata": {
    "ExecuteTime": {
     "end_time": "2024-08-15T16:11:46.006124Z",
     "start_time": "2024-08-15T16:11:45.953115Z"
    }
   },
   "cell_type": "code",
   "source": [
    "# Example usage\n",
    "funcs = get_random_hash_functions(3)\n",
    "print(\"Checking for items:\")\n",
    "sbf = ScalableBloomFilter(initial_size=10, error_rate=0.01, hash_functions=funcs)\n",
    "for i in range(1000):\n",
    "    sbf.add(f\"item_{i}\")\n",
    "    if i % 100 == 0:\n",
    "        print(sbf)\n",
    "\n",
    "# Check for items\n",
    "print(\"\\nChecking for items:\")\n",
    "for i in range(1100):  # Check for 100 items that weren't added\n",
    "    if not sbf.check(f\"item_{i}\"):\n",
    "        print(f\"item_{i} not found\")\n"
   ],
   "id": "664a3e22271a8516",
   "outputs": [
    {
     "name": "stdout",
     "output_type": "stream",
     "text": [
      "Selected Hash Function 1: djb2_hash\n",
      "Selected Hash Function 2: md5_hash\n",
      "Selected Hash Function 3: sha1_hash\n",
      "\n",
      "\n",
      "Checking for items:\n",
      "Initialized Bloom Filter with size 10 and 3 hash functions.\n",
      "Created new Bloom Filter with size 10.\n",
      "\n",
      "ScalableBloomFilter with 1 filters, current size: 10\n",
      "Initialized Bloom Filter with size 20 and 3 hash functions.\n",
      "Created new Bloom Filter with size 20.\n",
      "\n",
      "Initialized Bloom Filter with size 40 and 3 hash functions.\n",
      "Created new Bloom Filter with size 40.\n",
      "\n",
      "Initialized Bloom Filter with size 80 and 3 hash functions.\n",
      "Created new Bloom Filter with size 80.\n",
      "\n",
      "Initialized Bloom Filter with size 160 and 3 hash functions.\n",
      "Created new Bloom Filter with size 160.\n",
      "\n",
      "Initialized Bloom Filter with size 320 and 3 hash functions.\n",
      "Created new Bloom Filter with size 320.\n",
      "\n",
      "ScalableBloomFilter with 6 filters, current size: 320\n",
      "Initialized Bloom Filter with size 640 and 3 hash functions.\n",
      "Created new Bloom Filter with size 640.\n",
      "\n",
      "ScalableBloomFilter with 7 filters, current size: 640\n",
      "Initialized Bloom Filter with size 1280 and 3 hash functions.\n",
      "Created new Bloom Filter with size 1280.\n",
      "\n",
      "ScalableBloomFilter with 8 filters, current size: 1280\n",
      "ScalableBloomFilter with 8 filters, current size: 1280\n",
      "Initialized Bloom Filter with size 2560 and 3 hash functions.\n",
      "Created new Bloom Filter with size 2560.\n",
      "\n",
      "ScalableBloomFilter with 9 filters, current size: 2560\n",
      "ScalableBloomFilter with 9 filters, current size: 2560\n",
      "ScalableBloomFilter with 9 filters, current size: 2560\n",
      "ScalableBloomFilter with 9 filters, current size: 2560\n",
      "Initialized Bloom Filter with size 5120 and 3 hash functions.\n",
      "Created new Bloom Filter with size 5120.\n",
      "\n",
      "ScalableBloomFilter with 10 filters, current size: 5120\n",
      "\n",
      "Checking for items:\n",
      "item_1001 not found\n",
      "item_1004 not found\n",
      "item_1005 not found\n",
      "item_1006 not found\n",
      "item_1010 not found\n",
      "item_1015 not found\n",
      "item_1016 not found\n",
      "item_1017 not found\n",
      "item_1019 not found\n",
      "item_1020 not found\n",
      "item_1022 not found\n",
      "item_1024 not found\n",
      "item_1028 not found\n",
      "item_1029 not found\n",
      "item_1030 not found\n",
      "item_1031 not found\n",
      "item_1033 not found\n",
      "item_1034 not found\n",
      "item_1035 not found\n",
      "item_1036 not found\n",
      "item_1038 not found\n",
      "item_1039 not found\n",
      "item_1041 not found\n",
      "item_1042 not found\n",
      "item_1046 not found\n",
      "item_1047 not found\n",
      "item_1051 not found\n",
      "item_1055 not found\n",
      "item_1056 not found\n",
      "item_1057 not found\n",
      "item_1058 not found\n",
      "item_1059 not found\n",
      "item_1060 not found\n",
      "item_1065 not found\n",
      "item_1066 not found\n",
      "item_1067 not found\n",
      "item_1068 not found\n",
      "item_1069 not found\n",
      "item_1071 not found\n",
      "item_1072 not found\n",
      "item_1073 not found\n",
      "item_1075 not found\n",
      "item_1076 not found\n",
      "item_1077 not found\n",
      "item_1078 not found\n",
      "item_1079 not found\n",
      "item_1081 not found\n",
      "item_1082 not found\n",
      "item_1083 not found\n",
      "item_1086 not found\n",
      "item_1089 not found\n",
      "item_1092 not found\n",
      "item_1093 not found\n",
      "item_1094 not found\n",
      "item_1095 not found\n",
      "item_1096 not found\n",
      "item_1097 not found\n",
      "item_1098 not found\n",
      "item_1099 not found\n"
     ]
    }
   ],
   "execution_count": 115
  },
  {
   "metadata": {
    "ExecuteTime": {
     "end_time": "2024-08-15T16:05:22.504042Z",
     "start_time": "2024-08-15T16:05:22.491035Z"
    }
   },
   "cell_type": "code",
   "source": "",
   "id": "ed773fb6bf52d70e",
   "outputs": [],
   "execution_count": 109
  }
 ],
 "metadata": {
  "kernelspec": {
   "display_name": "Python 3",
   "language": "python",
   "name": "python3"
  },
  "language_info": {
   "codemirror_mode": {
    "name": "ipython",
    "version": 2
   },
   "file_extension": ".py",
   "mimetype": "text/x-python",
   "name": "python",
   "nbconvert_exporter": "python",
   "pygments_lexer": "ipython2",
   "version": "2.7.6"
  }
 },
 "nbformat": 4,
 "nbformat_minor": 5
}
